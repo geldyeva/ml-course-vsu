{
 "cells": [
  {
   "cell_type": "markdown",
   "metadata": {},
   "source": [
    "# Условие задачи\n",
    "\n",
    "Тебе необходимо решить самую известную задачу в мире машинного обучения – Titanic. Твоя цель – предсказать выживет ли человек после кораблекрушения. Более подробное описание задачи тут: https://www.kaggle.com/c/titanic\n",
    "\n",
    "В итоге я жду от тебя либо публичный kernel на Kaggle, либо публичный репозиторий с тетрадкой на GitHub.\n",
    "\n",
    "# Структура твоего решения должна быть следующей:\n",
    "\n",
    "## 1. EDA: Загрузи данные и сделай разведочный анализ\n",
    "Анализ должен включать следующие шаги:\n",
    "\n",
    "### А. Первый взгляд\n",
    "\n",
    "Загрузи данные. Сколько примеров в обучающей выборке? В тестовой? Сколько признаков?"
   ]
  },
  {
   "cell_type": "code",
   "execution_count": 1,
   "metadata": {},
   "outputs": [],
   "source": [
    "# твой код здесь"
   ]
  },
  {
   "cell_type": "markdown",
   "metadata": {},
   "source": [
    "Выведи последние 10 примеров из обучающей выборки"
   ]
  },
  {
   "cell_type": "code",
   "execution_count": 2,
   "metadata": {},
   "outputs": [],
   "source": [
    "# твой код здесь"
   ]
  },
  {
   "cell_type": "markdown",
   "metadata": {},
   "source": [
    "Посмотри, какие есть признаки, и убедись, что понимаешь смысл каждого из них. В следующей ячейке выведи названия всех признаков. "
   ]
  },
  {
   "cell_type": "code",
   "execution_count": 3,
   "metadata": {},
   "outputs": [],
   "source": [
    "# твой код здесь"
   ]
  },
  {
   "cell_type": "markdown",
   "metadata": {},
   "source": [
    "Какой из них является целевой переменной?"
   ]
  },
  {
   "cell_type": "code",
   "execution_count": 4,
   "metadata": {},
   "outputs": [],
   "source": [
    "# твой ответ здесь"
   ]
  },
  {
   "cell_type": "markdown",
   "metadata": {},
   "source": [
    "Какие признаки являются категориальными?"
   ]
  },
  {
   "cell_type": "code",
   "execution_count": 5,
   "metadata": {},
   "outputs": [],
   "source": [
    "# твой ответ здесь"
   ]
  },
  {
   "cell_type": "markdown",
   "metadata": {},
   "source": [
    "Какие признаки являются числовыми?"
   ]
  },
  {
   "cell_type": "code",
   "execution_count": 6,
   "metadata": {},
   "outputs": [],
   "source": [
    "# твой ответ здесь"
   ]
  },
  {
   "cell_type": "markdown",
   "metadata": {},
   "source": [
    "Строковые?"
   ]
  },
  {
   "cell_type": "code",
   "execution_count": 7,
   "metadata": {},
   "outputs": [],
   "source": [
    "# твой ответ здесь"
   ]
  },
  {
   "cell_type": "markdown",
   "metadata": {},
   "source": [
    "Воспользуйся методом `info` и скажи мне какие колонки содержат пропуски?"
   ]
  },
  {
   "cell_type": "code",
   "execution_count": 8,
   "metadata": {},
   "outputs": [],
   "source": [
    "# твой код здесь"
   ]
  },
  {
   "cell_type": "code",
   "execution_count": 9,
   "metadata": {},
   "outputs": [],
   "source": [
    "# твой ответ здесь"
   ]
  },
  {
   "cell_type": "markdown",
   "metadata": {},
   "source": [
    "### Б. Смотрим на распределения отдельных переменных\n",
    "\n",
    "Используй метод `describe`, чтобы оценить основные параметры распределений численных величин"
   ]
  },
  {
   "cell_type": "code",
   "execution_count": 10,
   "metadata": {},
   "outputs": [],
   "source": [
    "# твой код здесь"
   ]
  },
  {
   "cell_type": "markdown",
   "metadata": {},
   "source": [
    "Ответь мне на вопросы:\n",
    "- Я где-то слышал, что на Титанике было больше 2к людей и выжили только 32%, а как обстоят дела у нас?\n",
    "- Какой процент людей путешествовали с родителями или детьми? Покажи с помощью параметра `percentiles`\n",
    "- С братьями/сестрами? \n",
    "- Пенсионеров (старше 65)?"
   ]
  },
  {
   "cell_type": "code",
   "execution_count": 11,
   "metadata": {},
   "outputs": [],
   "source": [
    "# твой код здесь"
   ]
  },
  {
   "cell_type": "markdown",
   "metadata": {},
   "source": [
    "Теперь то же самое для категориальных (Подсказка: надо что-то передать в параметр `include`)"
   ]
  },
  {
   "cell_type": "code",
   "execution_count": 12,
   "metadata": {},
   "outputs": [],
   "source": [
    "# твой код здесь"
   ]
  },
  {
   "cell_type": "markdown",
   "metadata": {},
   "source": [
    "Сколько всего было портов?"
   ]
  },
  {
   "cell_type": "code",
   "execution_count": 13,
   "metadata": {},
   "outputs": [],
   "source": [
    "# твой код здесь"
   ]
  },
  {
   "cell_type": "markdown",
   "metadata": {},
   "source": [
    "БОНУС! Я помню из фильма, что в первую очередь спасали женщин, детей и богачей. Покажи это! Придумай как!"
   ]
  },
  {
   "cell_type": "code",
   "execution_count": 14,
   "metadata": {},
   "outputs": [],
   "source": [
    "# твой код здесь"
   ]
  },
  {
   "cell_type": "markdown",
   "metadata": {},
   "source": [
    "### В. Что полезного узнали?"
   ]
  },
  {
   "cell_type": "markdown",
   "metadata": {},
   "source": [
    "Окей. Немного посмотрели на данные, уже можно что-то полезное сказать и сделать.\n",
    "\n",
    "Есть 3 признака которые я бы удалил. Ответь какие и почему. И удали!"
   ]
  },
  {
   "cell_type": "code",
   "execution_count": 15,
   "metadata": {},
   "outputs": [],
   "source": [
    "# твой ответ здесь"
   ]
  },
  {
   "cell_type": "code",
   "execution_count": 16,
   "metadata": {},
   "outputs": [],
   "source": [
    "# твой код здесь"
   ]
  },
  {
   "cell_type": "markdown",
   "metadata": {},
   "source": [
    "Где надо будет заполнить пропуски?"
   ]
  },
  {
   "cell_type": "code",
   "execution_count": 17,
   "metadata": {},
   "outputs": [],
   "source": [
    "# твой код здесь"
   ]
  },
  {
   "cell_type": "markdown",
   "metadata": {},
   "source": [
    "### Г. Давай порисуем\n",
    "\n",
    "Если не помнишь, как строить графики, смотри в тетрадку \"Визуализация\" и \"PricesEDA\" в репозитории.\n",
    "\n",
    "Как возраст влияет на целевую переменную? Сильный ли это признак? Нарисуй мне так, чтобы сразу было понятно! (мб на 2х графиках)"
   ]
  },
  {
   "cell_type": "code",
   "execution_count": 18,
   "metadata": {},
   "outputs": [],
   "source": [
    "# твой код здесь"
   ]
  },
  {
   "cell_type": "code",
   "execution_count": 19,
   "metadata": {},
   "outputs": [],
   "source": [
    "# твой ответ здесь"
   ]
  },
  {
   "cell_type": "markdown",
   "metadata": {},
   "source": [
    "Давай посмотрим, как влияет класс пассажира!\n",
    "\n",
    "Сгруппируй по pclass, и построй stacked bar chart, который показывает процент выживших в каждом классе."
   ]
  },
  {
   "cell_type": "code",
   "execution_count": 20,
   "metadata": {},
   "outputs": [],
   "source": [
    "# твой код здесь"
   ]
  },
  {
   "cell_type": "markdown",
   "metadata": {},
   "source": [
    "### Д. БОНУС!\n",
    "\n",
    "Даю тебе пространство для творчества: исследуй данные вдоль и поперек! Если нет вдохновения, его можно почерпнуть в тетрадках других участников во вкладке kernels."
   ]
  },
  {
   "cell_type": "code",
   "execution_count": 21,
   "metadata": {},
   "outputs": [],
   "source": [
    "# твой код здесь"
   ]
  },
  {
   "cell_type": "markdown",
   "metadata": {},
   "source": [
    "## 2. Feature engineering\n",
    "или создание новых признаков\n",
    "\n",
    "### А. Что в имени твоем?\n",
    "\n",
    "Давай посмотрим внимательно на столбец с именами. Для начала выведи его."
   ]
  },
  {
   "cell_type": "code",
   "execution_count": 22,
   "metadata": {},
   "outputs": [],
   "source": [
    "# твой код здесь"
   ]
  },
  {
   "cell_type": "markdown",
   "metadata": {},
   "source": [
    "Видишь, имена содержат некоторый статус человека: Miss, Lady, Sir, ... Давай заиспользуем эту информацию и выведем новый признак: Status. Используй метод `str.extract()` у колонки. `.str` - это эффективный способ работать со строками в матричном виде, сильно быстрее, чет `.apply()`"
   ]
  },
  {
   "cell_type": "code",
   "execution_count": 23,
   "metadata": {},
   "outputs": [],
   "source": [
    "# твой код здесь"
   ]
  },
  {
   "cell_type": "markdown",
   "metadata": {},
   "source": [
    "Посмотри на то, что у тебя получилось! Посчитай сколько раз встречалось каждое уникальное значение!"
   ]
  },
  {
   "cell_type": "code",
   "execution_count": 24,
   "metadata": {},
   "outputs": [],
   "source": [
    "# твой код здесь"
   ]
  },
  {
   "cell_type": "markdown",
   "metadata": {},
   "source": [
    "Там есть небольшой косяк и одинаковые по смыслу значения повторяются, поэтому сделай замену следующим образом:\n",
    "- replace('Mlle', 'Miss')\n",
    "- replace('Ms', 'Miss')\n",
    "- replace('Mme', 'Mrs')"
   ]
  },
  {
   "cell_type": "code",
   "execution_count": 25,
   "metadata": {},
   "outputs": [],
   "source": [
    "# твой код здесь"
   ]
  },
  {
   "cell_type": "markdown",
   "metadata": {},
   "source": [
    "Самые редкие (порог редкости предлагаю тебе выбрать самостоятельно) замени на `OTHER`."
   ]
  },
  {
   "cell_type": "code",
   "execution_count": 26,
   "metadata": {},
   "outputs": [],
   "source": [
    "# твой код здесь"
   ]
  },
  {
   "cell_type": "markdown",
   "metadata": {},
   "source": [
    "Ура! Создали новый признак! Какого он типа? Покажи вероятности выжить, имея определенный Status. Используй `groupby`. Name удали."
   ]
  },
  {
   "cell_type": "code",
   "execution_count": 27,
   "metadata": {},
   "outputs": [],
   "source": [
    "# твой код здесь"
   ]
  },
  {
   "cell_type": "markdown",
   "metadata": {},
   "source": [
    "### Б. Middle is missing!\n",
    "\n",
    "Заполни пропуски везде, где это нужно. \n",
    "- Медиана для категориальных. \n",
    "- Для числовых сделай так:\n",
    "    0. Если пропусков крайне мало, заполни средним.\n",
    "    1. Определи переменные с которыми они лучше всего коррелируют с помощью `corr()` и `heatmap` (предварительно закодировав категориальные фичи в числа с помощью LabelEncoder).\n",
    "    2. На основе этих переменных (главное не используй Survived) построй линейную регрессию у которой таргет – колонка с пропуском (предварительно закодировав категориальные фичи из предыдущего пункта в числа с помощью OneHotEncoder).\n",
    "    3. Сделай предсказания этой моделью для строчек с пропусками."
   ]
  },
  {
   "cell_type": "code",
   "execution_count": 28,
   "metadata": {},
   "outputs": [],
   "source": [
    "# твой код здесь"
   ]
  },
  {
   "cell_type": "markdown",
   "metadata": {},
   "source": [
    "### В. Нужно больше признаков\n",
    "\n",
    "- Разбей возраст на корзины: дети, молодежь, старики ... Количество корзин определи самостоятельно. Можно использовать `cut`. Так же можно поступить с ценой билета.\n",
    "- Создай признаки \"размер семьи\", \"путешествует в одиночку\"\n",
    "\n",
    "Теперь у тебя есть 4 признака, описывающие семейное положение. Посмотри по корреляции с таргетом, какие из них лишние. Но пока не удаляй."
   ]
  },
  {
   "cell_type": "code",
   "execution_count": 29,
   "metadata": {},
   "outputs": [],
   "source": [
    "# твой код здесь"
   ]
  },
  {
   "cell_type": "markdown",
   "metadata": {},
   "source": [
    "### Г. БОНУС!\n",
    "\n",
    "- Придумай самостоятельно пару-тройку признаков.\n",
    "- Как зависит вероятность выжить от размера семьи?"
   ]
  },
  {
   "cell_type": "code",
   "execution_count": 30,
   "metadata": {},
   "outputs": [],
   "source": [
    "# твой код здесь"
   ]
  },
  {
   "cell_type": "markdown",
   "metadata": {},
   "source": [
    "### Д. Чтобы комплюктор понял\n",
    "\n",
    "Преобразуй все категориальные признаки в числа. Пол с помощью `map`, остальное - `to_dummies`. Заодно вспомни, почему для линейной модели лучше one_hot и почему дереву все равно."
   ]
  },
  {
   "cell_type": "code",
   "execution_count": 31,
   "metadata": {},
   "outputs": [],
   "source": [
    "# твой код здесь"
   ]
  },
  {
   "cell_type": "markdown",
   "metadata": {},
   "source": [
    "## 3. Начинается веселье\n",
    "\n",
    "__Note:__ Удостоверься, что обучающая и тестовая выборки были преобразованы одним и тем же способом. Не забудь что для некоторых моделей надо масштабировать данные. Для каких?\n",
    "\n",
    "Тебе необходимо построить и оценить следующие модели:\n",
    "- Логистическая регрессия\n",
    "- Метод ближайших соседей\n",
    "- Дерево решений\n",
    "- Случайный лес\n",
    "- Градиентный бустинг (https://habr.com/company/ods/blog/327250/)\n",
    "\n",
    "Для каждой из моделей сделай перекрестную проверку, построй Confusion Matrix. Оцени качество по метрике accuracy. Какая лучше всех? Сделай сводную таблицу, отсортированную по точности. \n",
    "\n",
    "Лучшую модель обучи на полной выборке и отправь предсказания на лидерборд."
   ]
  },
  {
   "cell_type": "code",
   "execution_count": 32,
   "metadata": {},
   "outputs": [],
   "source": [
    "# твой код здесь"
   ]
  },
  {
   "cell_type": "markdown",
   "metadata": {},
   "source": [
    "## 4. Идешь на автомат\n",
    "\n",
    "Задачи для саморазвития (отсортированы примерно по возрастанию сложности):\n",
    "\n",
    "0. Примени LightGBM вместо `sklearn.ensemble.GradientBoostingClassifier` и удивись.\n",
    "1. Подбери параметры алгоритмов как в тетрадке \"Grid search\" и добейся лучшего качества.\n",
    "2. Узнай как отбирать признаки в тетрадке \"Отбор признаков\" и выбери самые важные, удали остальные и проверь качество.\n",
    "3. Заиспользуй `VotingClassifier` и `BaggingClassifier` из sklearn и оцени качество.\n",
    "4. Узнай про mean target encoding и примени его. Подробнее: https://www.youtube.com/watch?v=g335THJxkto&t=2832s "
   ]
  },
  {
   "cell_type": "code",
   "execution_count": null,
   "metadata": {},
   "outputs": [],
   "source": []
  }
 ],
 "metadata": {
  "kernelspec": {
   "display_name": "Python 3",
   "language": "python",
   "name": "python3"
  },
  "language_info": {
   "codemirror_mode": {
    "name": "ipython",
    "version": 3
   },
   "file_extension": ".py",
   "mimetype": "text/x-python",
   "name": "python",
   "nbconvert_exporter": "python",
   "pygments_lexer": "ipython3",
   "version": "3.6.5"
  }
 },
 "nbformat": 4,
 "nbformat_minor": 2
}
