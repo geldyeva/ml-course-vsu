{
 "cells": [
  {
   "cell_type": "code",
   "execution_count": 1,
   "metadata": {
    "ExecuteTime": {
     "end_time": "2017-11-21T01:59:48.502815",
     "start_time": "2017-11-21T01:59:48.489136"
    },
    "collapsed": true
   },
   "outputs": [],
   "source": [
    "import pandas as pd\n",
    "pd.options.display.max_columns = 200\n",
    "pd.options.display.max_rows = 400\n",
    "\n",
    "import matplotlib.pyplot as plt\n",
    "%matplotlib inline\n",
    "\n",
    "import seaborn as sns\n",
    "sns.set_style(\"whitegrid\")"
   ]
  },
  {
   "cell_type": "code",
   "execution_count": 2,
   "metadata": {
    "ExecuteTime": {
     "end_time": "2017-11-21T01:59:49.976592",
     "start_time": "2017-11-21T01:59:49.971034"
    },
    "code_folding": [],
    "collapsed": true
   },
   "outputs": [],
   "source": [
    "from matplotlib import rcParams\n",
    "\n",
    "rcParams['figure.figsize'] = 10, 8\n",
    "rcParams['font.size'] = 16\n",
    "rcParams['axes.labelsize'] = 14\n",
    "rcParams['xtick.labelsize'] = 13\n",
    "rcParams['ytick.labelsize'] = 13\n",
    "rcParams['legend.fontsize'] = 15"
   ]
  },
  {
   "cell_type": "markdown",
   "metadata": {},
   "source": [
    "# Данные"
   ]
  },
  {
   "cell_type": "code",
   "execution_count": 4,
   "metadata": {
    "ExecuteTime": {
     "end_time": "2017-11-21T01:59:07.593889",
     "start_time": "2017-11-21T01:59:07.583057"
    },
    "collapsed": true
   },
   "outputs": [],
   "source": [
    "df = pd.read_csv(\n",
    "    # путь к вашему файлу pokemon_full\n",
    ")\n",
    "df.drop('Number', axis=1, inplace=True)"
   ]
  },
  {
   "cell_type": "code",
   "execution_count": 5,
   "metadata": {
    "ExecuteTime": {
     "end_time": "2017-11-21T01:59:08.948120",
     "start_time": "2017-11-21T01:59:08.918268"
    },
    "collapsed": false
   },
   "outputs": [
    {
     "name": "stdout",
     "output_type": "stream",
     "text": [
      "(721, 22)\n"
     ]
    },
    {
     "data": {
      "text/html": [
       "<div>\n",
       "<style>\n",
       "    .dataframe thead tr:only-child th {\n",
       "        text-align: right;\n",
       "    }\n",
       "\n",
       "    .dataframe thead th {\n",
       "        text-align: left;\n",
       "    }\n",
       "\n",
       "    .dataframe tbody tr th {\n",
       "        vertical-align: top;\n",
       "    }\n",
       "</style>\n",
       "<table border=\"1\" class=\"dataframe\">\n",
       "  <thead>\n",
       "    <tr style=\"text-align: right;\">\n",
       "      <th></th>\n",
       "      <th>Name</th>\n",
       "      <th>Type_1</th>\n",
       "      <th>Type_2</th>\n",
       "      <th>Total</th>\n",
       "      <th>HP</th>\n",
       "      <th>Attack</th>\n",
       "      <th>Defense</th>\n",
       "      <th>Sp_Atk</th>\n",
       "      <th>Sp_Def</th>\n",
       "      <th>Speed</th>\n",
       "      <th>Generation</th>\n",
       "      <th>isLegendary</th>\n",
       "      <th>Color</th>\n",
       "      <th>hasGender</th>\n",
       "      <th>Pr_Male</th>\n",
       "      <th>Egg_Group_1</th>\n",
       "      <th>Egg_Group_2</th>\n",
       "      <th>hasMegaEvolution</th>\n",
       "      <th>Height_m</th>\n",
       "      <th>Weight_kg</th>\n",
       "      <th>Catch_Rate</th>\n",
       "      <th>Body_Style</th>\n",
       "    </tr>\n",
       "  </thead>\n",
       "  <tbody>\n",
       "    <tr>\n",
       "      <th>0</th>\n",
       "      <td>Bulbasaur</td>\n",
       "      <td>Grass</td>\n",
       "      <td>Poison</td>\n",
       "      <td>318</td>\n",
       "      <td>45</td>\n",
       "      <td>49</td>\n",
       "      <td>49</td>\n",
       "      <td>65</td>\n",
       "      <td>65</td>\n",
       "      <td>45</td>\n",
       "      <td>1</td>\n",
       "      <td>False</td>\n",
       "      <td>Green</td>\n",
       "      <td>True</td>\n",
       "      <td>0.875</td>\n",
       "      <td>Monster</td>\n",
       "      <td>Grass</td>\n",
       "      <td>False</td>\n",
       "      <td>0.71</td>\n",
       "      <td>6.9</td>\n",
       "      <td>45</td>\n",
       "      <td>quadruped</td>\n",
       "    </tr>\n",
       "    <tr>\n",
       "      <th>1</th>\n",
       "      <td>Ivysaur</td>\n",
       "      <td>Grass</td>\n",
       "      <td>Poison</td>\n",
       "      <td>405</td>\n",
       "      <td>60</td>\n",
       "      <td>62</td>\n",
       "      <td>63</td>\n",
       "      <td>80</td>\n",
       "      <td>80</td>\n",
       "      <td>60</td>\n",
       "      <td>1</td>\n",
       "      <td>False</td>\n",
       "      <td>Green</td>\n",
       "      <td>True</td>\n",
       "      <td>0.875</td>\n",
       "      <td>Monster</td>\n",
       "      <td>Grass</td>\n",
       "      <td>False</td>\n",
       "      <td>0.99</td>\n",
       "      <td>13.0</td>\n",
       "      <td>45</td>\n",
       "      <td>quadruped</td>\n",
       "    </tr>\n",
       "    <tr>\n",
       "      <th>2</th>\n",
       "      <td>Venusaur</td>\n",
       "      <td>Grass</td>\n",
       "      <td>Poison</td>\n",
       "      <td>525</td>\n",
       "      <td>80</td>\n",
       "      <td>82</td>\n",
       "      <td>83</td>\n",
       "      <td>100</td>\n",
       "      <td>100</td>\n",
       "      <td>80</td>\n",
       "      <td>1</td>\n",
       "      <td>False</td>\n",
       "      <td>Green</td>\n",
       "      <td>True</td>\n",
       "      <td>0.875</td>\n",
       "      <td>Monster</td>\n",
       "      <td>Grass</td>\n",
       "      <td>True</td>\n",
       "      <td>2.01</td>\n",
       "      <td>100.0</td>\n",
       "      <td>45</td>\n",
       "      <td>quadruped</td>\n",
       "    </tr>\n",
       "    <tr>\n",
       "      <th>3</th>\n",
       "      <td>Charmander</td>\n",
       "      <td>Fire</td>\n",
       "      <td>NaN</td>\n",
       "      <td>309</td>\n",
       "      <td>39</td>\n",
       "      <td>52</td>\n",
       "      <td>43</td>\n",
       "      <td>60</td>\n",
       "      <td>50</td>\n",
       "      <td>65</td>\n",
       "      <td>1</td>\n",
       "      <td>False</td>\n",
       "      <td>Red</td>\n",
       "      <td>True</td>\n",
       "      <td>0.875</td>\n",
       "      <td>Monster</td>\n",
       "      <td>Dragon</td>\n",
       "      <td>False</td>\n",
       "      <td>0.61</td>\n",
       "      <td>8.5</td>\n",
       "      <td>45</td>\n",
       "      <td>bipedal_tailed</td>\n",
       "    </tr>\n",
       "    <tr>\n",
       "      <th>4</th>\n",
       "      <td>Charmeleon</td>\n",
       "      <td>Fire</td>\n",
       "      <td>NaN</td>\n",
       "      <td>405</td>\n",
       "      <td>58</td>\n",
       "      <td>64</td>\n",
       "      <td>58</td>\n",
       "      <td>80</td>\n",
       "      <td>65</td>\n",
       "      <td>80</td>\n",
       "      <td>1</td>\n",
       "      <td>False</td>\n",
       "      <td>Red</td>\n",
       "      <td>True</td>\n",
       "      <td>0.875</td>\n",
       "      <td>Monster</td>\n",
       "      <td>Dragon</td>\n",
       "      <td>False</td>\n",
       "      <td>1.09</td>\n",
       "      <td>19.0</td>\n",
       "      <td>45</td>\n",
       "      <td>bipedal_tailed</td>\n",
       "    </tr>\n",
       "  </tbody>\n",
       "</table>\n",
       "</div>"
      ],
      "text/plain": [
       "         Name Type_1  Type_2  Total  HP  Attack  Defense  Sp_Atk  Sp_Def  \\\n",
       "0   Bulbasaur  Grass  Poison    318  45      49       49      65      65   \n",
       "1     Ivysaur  Grass  Poison    405  60      62       63      80      80   \n",
       "2    Venusaur  Grass  Poison    525  80      82       83     100     100   \n",
       "3  Charmander   Fire     NaN    309  39      52       43      60      50   \n",
       "4  Charmeleon   Fire     NaN    405  58      64       58      80      65   \n",
       "\n",
       "   Speed  Generation  isLegendary  Color  hasGender  Pr_Male Egg_Group_1  \\\n",
       "0     45           1        False  Green       True    0.875     Monster   \n",
       "1     60           1        False  Green       True    0.875     Monster   \n",
       "2     80           1        False  Green       True    0.875     Monster   \n",
       "3     65           1        False    Red       True    0.875     Monster   \n",
       "4     80           1        False    Red       True    0.875     Monster   \n",
       "\n",
       "  Egg_Group_2  hasMegaEvolution  Height_m  Weight_kg  Catch_Rate  \\\n",
       "0       Grass             False      0.71        6.9          45   \n",
       "1       Grass             False      0.99       13.0          45   \n",
       "2       Grass              True      2.01      100.0          45   \n",
       "3      Dragon             False      0.61        8.5          45   \n",
       "4      Dragon             False      1.09       19.0          45   \n",
       "\n",
       "       Body_Style  \n",
       "0       quadruped  \n",
       "1       quadruped  \n",
       "2       quadruped  \n",
       "3  bipedal_tailed  \n",
       "4  bipedal_tailed  "
      ]
     },
     "execution_count": 5,
     "metadata": {},
     "output_type": "execute_result"
    }
   ],
   "source": [
    "print(df.shape)\n",
    "\n",
    "df.head()"
   ]
  },
  {
   "cell_type": "markdown",
   "metadata": {},
   "source": [
    "<div class=\"panel panel-info\" style=\"margin: 50px 0 0 0\">\n",
    "    <div class=\"panel-heading\">\n",
    "        <h3 class=\"panel-title\">Задание 1: Первый взгляд</h3> \n",
    "    </div>\n",
    "</div>\n",
    "\n",
    "Построй 4 гистограммы (__histogram__) на 30 бинов главнхых 4 характеристик покемонов: \n",
    "\n",
    "* `HP` - здоровья\n",
    "* `Attack` - уровня атаки\n",
    "* `Defense` - уровня защиты\n",
    "* `Speed` - скорости\n",
    "\n",
    "Конечно, построить их надо на одном графике с 4 подграфиками (__axes__). Не забудь выделить достаточно места (параметр __figsize__)."
   ]
  },
  {
   "cell_type": "code",
   "execution_count": 4,
   "metadata": {
    "ExecuteTime": {
     "end_time": "2017-11-21T02:00:18.529206",
     "start_time": "2017-11-21T02:00:18.523355"
    },
    "collapsed": false
   },
   "outputs": [],
   "source": [
    "# Ваш код здесь"
   ]
  },
  {
   "cell_type": "markdown",
   "metadata": {},
   "source": [
    "Что видно? Есть странные большие значения?\n",
    "\n",
    "Кажется, в __HP__ точно есть одно. Давай построим __boxplot__ и проверим, что оно там наверняка есть."
   ]
  },
  {
   "cell_type": "code",
   "execution_count": 4,
   "metadata": {
    "ExecuteTime": {
     "end_time": "2017-11-21T02:00:18.529206",
     "start_time": "2017-11-21T02:00:18.523355"
    },
    "collapsed": false
   },
   "outputs": [],
   "source": [
    "# Ваш код здесь"
   ]
  },
  {
   "cell_type": "markdown",
   "metadata": {
    "ExecuteTime": {
     "end_time": "2017-11-21T00:22:37.057784",
     "start_time": "2017-11-21T00:22:37.050929"
    }
   },
   "source": [
    "<div class=\"panel panel-warning\">\n",
    "    <div class=\"panel-heading\">\n",
    "        <h3 class=\"panel-title\">Бонус</h3> \n",
    "    </div>\n",
    "</div>\n",
    "\n",
    "Прежде всего найди этих странных покемонов! У кого это больше __220__ жизней? А кто этот задохлик, у кого меньше __5__ здоровья? Выведи их имена!\n",
    "\n",
    "И покажи им, кто здесь главный, урезав им уровень здоровья с помощью __99% винсоризации__!\n",
    "\n",
    "Не забудь построить снова __boxplot__ и убедиться, что картинка другая. Правда?\n",
    "\n",
    "Подсказка: используй метод __`scipy.stats.mstats.winsorize()`__"
   ]
  },
  {
   "cell_type": "code",
   "execution_count": 4,
   "metadata": {
    "ExecuteTime": {
     "end_time": "2017-11-21T02:00:18.529206",
     "start_time": "2017-11-21T02:00:18.523355"
    },
    "collapsed": false
   },
   "outputs": [],
   "source": [
    "# Ваш код здесь"
   ]
  },
  {
   "cell_type": "markdown",
   "metadata": {},
   "source": [
    "<div class=\"panel panel-info\" style=\"margin: 50px 0 0 0\">\n",
    "    <div class=\"panel-heading\">\n",
    "        <h3 class=\"panel-title\">Задание 2: Красный значит сильный?</h3> \n",
    "    </div>\n",
    "</div>\n",
    "\n",
    "У детей 4 лет и немного старше повелось, что красная машинка быстрее ездит, потому что она красная. Красный самолетик быстрее летит. Но бьются ли красные покемоны сильнее всех? \n",
    "\n",
    "* Сгруппируй всех покемонов по цвету (`Color`), усредни их атаку (`Attack`) в каждой группе.\n",
    "* Построй __bar plot__, не забыв:\n",
    "    * Раскрасить столбцы (каждый в свой цвет) с помощью словаря `colors`.\n",
    "    * Обвести столбцы черной линией толщиной 1, чтобы белый столбец не потерялся."
   ]
  },
  {
   "cell_type": "code",
   "execution_count": 5,
   "metadata": {
    "ExecuteTime": {
     "end_time": "2017-11-21T02:01:08.888290",
     "start_time": "2017-11-21T02:01:08.882792"
    },
    "collapsed": false
   },
   "outputs": [],
   "source": [
    "colors = { \n",
    "    'Red':    '#d80000',\n",
    "    'Grey':   '#777777',\n",
    "    'Brown':  '#8e4204',\n",
    "    'Black':  '#000000',\n",
    "    'Blue':   '#0000ff',\n",
    "    'Green':  '#00b709',\n",
    "    'Purple': '#930091',\n",
    "    'Yellow': '#f2f218',\n",
    "    'White':  '#ffffff',\n",
    "    'Pink':   '#ffaac5'\n",
    "}\n",
    "\n",
    "# Ваше код здесь"
   ]
  },
  {
   "cell_type": "markdown",
   "metadata": {},
   "source": [
    "<div class=\"panel panel-info\" style=\"margin: 50px 0 0 0\">\n",
    "    <div class=\"panel-heading\">\n",
    "        <h3 class=\"panel-title\">Задание 3: Тот самый график</h3> \n",
    "    </div>\n",
    "</div>\n",
    "\n",
    "Нужно построить __stacked normalized bar chart__, на котором будет отлично видно, _какова доля легендарных покемонов в каждом поколении_. \n",
    "\n",
    "_Лайфхак:_ если включить мозги, то с помощью __pivot table__ можно облегчить себе работу."
   ]
  },
  {
   "cell_type": "code",
   "execution_count": 4,
   "metadata": {
    "ExecuteTime": {
     "end_time": "2017-11-21T02:00:18.529206",
     "start_time": "2017-11-21T02:00:18.523355"
    },
    "collapsed": false
   },
   "outputs": [],
   "source": [
    "# Ваш код здесь"
   ]
  },
  {
   "cell_type": "markdown",
   "metadata": {},
   "source": [
    "<div class=\"panel panel-info\" style=\"margin: 50px 0 0 0\">\n",
    "    <div class=\"panel-heading\">\n",
    "        <h3 class=\"panel-title\">Задание 4: i8∑π and it was delicious!</h3> \n",
    "    </div>\n",
    "</div>\n",
    "\n",
    "Сейчас простое задание. Честно. \n",
    "\n",
    "Построй __pie chart__ разных типов покемонов. С тенью!"
   ]
  },
  {
   "cell_type": "code",
   "execution_count": 4,
   "metadata": {
    "ExecuteTime": {
     "end_time": "2017-11-21T02:00:18.529206",
     "start_time": "2017-11-21T02:00:18.523355"
    },
    "collapsed": false
   },
   "outputs": [],
   "source": [
    "# Ваш код здесь"
   ]
  },
  {
   "cell_type": "markdown",
   "metadata": {},
   "source": [
    "<div class=\"panel panel-info\" style=\"margin: 50px 0 0 0\">\n",
    "    <div class=\"panel-heading\">\n",
    "        <h3 class=\"panel-title\">Задание 5: Больше усов</h3> \n",
    "    </div>\n",
    "</div>\n",
    "\n",
    "Постройте разные __box plot__ силы (__Total__) каждого из типа покемонов (__Type_1__), но отсортируйте их расположение на графике по их __медианам__, от самых слабых к самым сильным. Используй параметр `order` у `boxplot()`"
   ]
  },
  {
   "cell_type": "code",
   "execution_count": 4,
   "metadata": {
    "ExecuteTime": {
     "end_time": "2017-11-21T02:00:18.529206",
     "start_time": "2017-11-21T02:00:18.523355"
    },
    "collapsed": false
   },
   "outputs": [],
   "source": [
    "# Ваш код здесь"
   ]
  },
  {
   "cell_type": "markdown",
   "metadata": {},
   "source": [
    "<div class=\"panel panel-info\" style=\"margin: 50px 0 0 0\">\n",
    "    <div class=\"panel-heading\">\n",
    "        <h3 class=\"panel-title\">Задание 6: Так и сяк</h3> \n",
    "    </div>\n",
    "</div>\n",
    "\n",
    "1. Построй __jointplot__ между __Catch Rate__ и __Total__. Обрати внимание, что на нем есть коэффициент корреляции Пирсона и гистограммы величин.\n",
    "2. Построй __lmplot__ между __Catch Rate__ и __Total__. Обрати внимание, что на нем есть линия, выделяющая зависимость, но нет коэффициента корреляции или гистограмм."
   ]
  },
  {
   "cell_type": "code",
   "execution_count": 4,
   "metadata": {
    "ExecuteTime": {
     "end_time": "2017-11-21T02:00:18.529206",
     "start_time": "2017-11-21T02:00:18.523355"
    },
    "collapsed": false
   },
   "outputs": [],
   "source": [
    "# Ваш код здесь"
   ]
  },
  {
   "cell_type": "markdown",
   "metadata": {},
   "source": [
    "<div class=\"panel panel-info\" style=\"margin: 50px 0 0 0\">\n",
    "    <div class=\"panel-heading\">\n",
    "        <h3 class=\"panel-title\">Задание 7: На голову выше</h3> \n",
    "    </div>\n",
    "</div>\n",
    "\n",
    "Время проверить, что даже тщедушные легендарные покемоны сильнее даже очень крутых, но простецких, не_легендарных. \n",
    "\n",
    "Я буду описывать тебе, как заказчик, что хочу, а ты так и нарисуешь, окда?\n",
    "\n",
    "* На графике должно быть 4 __violin plot__: для `HP`, `Attack`, `Defense` и `Speed`.\n",
    "* На каждый из которых должны быть нанесены квартили.\n",
    "* Каждый из которых должен быть разделенный (__`split=True`__), как [здесь](http://seaborn.pydata.org/examples/grouped_violinplots.html). Но если в примере разделение по полу, то здесь как раз по __isLegendary__.\n",
    "\n",
    "_Лайфхак:_ если включить мозги, то с помощью __melt__ можно облегчить себе работу."
   ]
  },
  {
   "cell_type": "code",
   "execution_count": 4,
   "metadata": {
    "ExecuteTime": {
     "end_time": "2017-11-21T02:00:18.529206",
     "start_time": "2017-11-21T02:00:18.523355"
    },
    "collapsed": false
   },
   "outputs": [],
   "source": [
    "# Ваш код здесь"
   ]
  },
  {
   "cell_type": "markdown",
   "metadata": {},
   "source": [
    "<div class=\"panel panel-success\" style=\"margin: 50px 0 0 0\">\n",
    "    <div class=\"panel-heading\">\n",
    "        <h3 class=\"panel-title\">Финиш!</h3> \n",
    "    </div>\n",
    "</div>\n",
    "\n",
    "Если ты действительно добрался до этого места в тетрадке и честно все нарисовал, - красавчик! Обязательно расскажи мне об этом на следующем занятии."
   ]
  }
 ],
 "metadata": {
  "kernelspec": {
   "display_name": "Python 3",
   "language": "python",
   "name": "python3"
  },
  "language_info": {
   "codemirror_mode": {
    "name": "ipython",
    "version": 3
   },
   "file_extension": ".py",
   "mimetype": "text/x-python",
   "name": "python",
   "nbconvert_exporter": "python",
   "pygments_lexer": "ipython3",
   "version": "3.6.5"
  },
  "toc": {
   "colors": {
    "hover_highlight": "#DAA520",
    "running_highlight": "#FF0000",
    "selected_highlight": "#FFD700"
   },
   "moveMenuLeft": true,
   "nav_menu": {
    "height": "30px",
    "width": "252px"
   },
   "navigate_menu": true,
   "number_sections": true,
   "sideBar": true,
   "threshold": 4,
   "toc_cell": false,
   "toc_section_display": "block",
   "toc_window_display": false
  }
 },
 "nbformat": 4,
 "nbformat_minor": 2
}
